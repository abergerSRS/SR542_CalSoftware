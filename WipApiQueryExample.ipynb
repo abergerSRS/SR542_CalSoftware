{
 "cells": [
  {
   "cell_type": "code",
   "execution_count": 1,
   "metadata": {
    "collapsed": true
   },
   "outputs": [],
   "source": [
    "import requests"
   ]
  },
  {
   "cell_type": "code",
   "execution_count": 6,
   "metadata": {
    "collapsed": true
   },
   "outputs": [],
   "source": [
    "# store your authentication info in a file \"wip_tracker_auth.txt\" in the same directory as this .ipynb\n",
    "with open(\"wip_tracker_auth.txt\") as file:\n",
    "    un = file.readline().rstrip()\n",
    "    pw = file.readline().rstrip()"
   ]
  },
  {
   "cell_type": "code",
   "execution_count": 11,
   "metadata": {},
   "outputs": [],
   "source": [
    "auth = requests.auth.HTTPBasicAuth(un, pw)\n",
    "root_url = \"https://tranquil-beach-18462.herokuapp.com/wip-tracker/api/\""
   ]
  },
  {
   "cell_type": "code",
   "execution_count": 12,
   "metadata": {
    "collapsed": true
   },
   "outputs": [],
   "source": [
    "res = requests.get(root_url, auth=auth)\n",
    "root = res.json()"
   ]
  },
  {
   "cell_type": "markdown",
   "metadata": {},
   "source": [
    "## Get List of All Built-Parts for a particular Assembly\n",
    "\n",
    "In the below example, I want to find all built-parts (those parts that have been assigned a serial number) corresponding to assembly 549"
   ]
  },
  {
   "cell_type": "code",
   "execution_count": 26,
   "metadata": {},
   "outputs": [],
   "source": [
    "params = {'part_number': '549', 'part_category': 'assembly'}\n",
    "res = requests.get(root['built-parts'], auth=auth, params=params)\n",
    "data = res.json()"
   ]
  },
  {
   "cell_type": "code",
   "execution_count": 27,
   "metadata": {},
   "outputs": [
    {
     "name": "stdout",
     "output_type": "stream",
     "text": [
      "5\n"
     ]
    }
   ],
   "source": [
    "# How many of Assembly 549 have been assigned serial numbers?\n",
    "print(data['count'])"
   ]
  },
  {
   "cell_type": "code",
   "execution_count": 29,
   "metadata": {},
   "outputs": [
    {
     "name": "stdout",
     "output_type": "stream",
     "text": [
      "['SR549 100', 'SR549 101', 'SR549 102', 'SR549 103', 'SR549 104']\n"
     ]
    }
   ],
   "source": [
    "# List those serial numbers\n",
    "print(sorted(bp['serial_number'] for bp in data['results']))"
   ]
  }
 ],
 "metadata": {
  "kernelspec": {
   "display_name": "Python 3",
   "language": "python",
   "name": "python3"
  },
  "language_info": {
   "codemirror_mode": {
    "name": "ipython",
    "version": 3
   },
   "file_extension": ".py",
   "mimetype": "text/x-python",
   "name": "python",
   "nbconvert_exporter": "python",
   "pygments_lexer": "ipython3",
   "version": "3.6.3"
  }
 },
 "nbformat": 4,
 "nbformat_minor": 2
}
