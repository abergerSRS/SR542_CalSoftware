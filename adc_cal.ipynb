{
 "cells": [
  {
   "cell_type": "markdown",
   "metadata": {},
   "source": [
    "# ADC Calibration"
   ]
  },
  {
   "cell_type": "code",
   "execution_count": 1,
   "metadata": {},
   "outputs": [],
   "source": [
    "import serial\n",
    "import numpy as np\n",
    "import matplotlib.pyplot as plt\n",
    "import os\n",
    "import time\n",
    "import pyvisa as visa\n",
    "from pathlib import Path\n",
    "from scipy.interpolate import interp1d\n",
    "\n",
    "from saveCalData import saveMeasurement\n",
    "from progressbar import update_progress"
   ]
  },
  {
   "cell_type": "code",
   "execution_count": 2,
   "metadata": {},
   "outputs": [],
   "source": [
    "def serialQry(port, command):\n",
    "    port.reset_input_buffer()\n",
    "    port.write((command + '\\n').encode('ascii'))\n",
    "    return port.readline().decode('ascii').strip() #strip removes white space\n",
    "\n",
    "def serialCmd(port, command):\n",
    "    port.reset_input_buffer()\n",
    "    port.write((command + '\\n').encode('ascii'))"
   ]
  },
  {
   "cell_type": "code",
   "execution_count": 3,
   "metadata": {},
   "outputs": [],
   "source": [
    "def rms(x):\n",
    "    return np.sqrt(np.mean(x**2))"
   ]
  },
  {
   "cell_type": "code",
   "execution_count": 130,
   "metadata": {},
   "outputs": [],
   "source": [
    "def yes_or_no(question):\n",
    "    reply = str(input(f'{question} (y/n):').lower().strip())\n",
    "    if reply == 'y':\n",
    "        return True\n",
    "    elif reply == 'n':\n",
    "        return False\n",
    "    else:\n",
    "        print('Invalid input. Not proceeding.')\n",
    "        return False"
   ]
  },
  {
   "cell_type": "code",
   "execution_count": 4,
   "metadata": {},
   "outputs": [],
   "source": [
    "sr542 = serial.Serial(port='COM11', baudrate=115200, timeout=.5)\n",
    "dc205 = serial.Serial(port='COM12', baudrate=115200, timeout=0.5)\n",
    "rm = visa.ResourceManager()\n",
    "rm.list_resources()\n",
    "dvm = rm.open_resource('USB0::0x0957::0xB318::MY52449038::INSTR')"
   ]
  },
  {
   "cell_type": "code",
   "execution_count": 5,
   "metadata": {},
   "outputs": [
    {
     "name": "stdout",
     "output_type": "stream",
     "text": [
      "Stanford_Research_Systems, SR542, s/n00001007, v0.10\n",
      "Stanford_Research_Systems,DC205,s/n20500218,ver1.80\n",
      "Agilent Technologies,34450A,MY52449038,00.56-00.63\n",
      "\n"
     ]
    }
   ],
   "source": [
    "print(serialQry(sr542, '*IDN?'))\n",
    "print(serialQry(dc205, '*IDN?'))\n",
    "print(dvm.query('*IDN?'))"
   ]
  },
  {
   "cell_type": "code",
   "execution_count": 57,
   "metadata": {},
   "outputs": [],
   "source": [
    "serialCmd(dc205, 'RNGE 2')\n",
    "serialCmd(dc205, 'VOLT 1.5')"
   ]
  },
  {
   "cell_type": "code",
   "execution_count": 29,
   "metadata": {},
   "outputs": [],
   "source": [
    "serialCmd(dc205, 'VOLT 0.0')"
   ]
  },
  {
   "cell_type": "code",
   "execution_count": 23,
   "metadata": {},
   "outputs": [],
   "source": [
    "serialCmd(dc205, 'SOUT ON')"
   ]
  },
  {
   "cell_type": "code",
   "execution_count": 30,
   "metadata": {},
   "outputs": [],
   "source": [
    "serialCmd(dc205, 'SOUT OFF')"
   ]
  },
  {
   "cell_type": "code",
   "execution_count": 29,
   "metadata": {},
   "outputs": [
    {
     "name": "stdout",
     "output_type": "stream",
     "text": [
      "28\n",
      "29\n",
      "30\n",
      "29\n",
      "29\n",
      "27\n",
      "30\n",
      "25\n",
      "22\n",
      "29\n",
      "30\n",
      "32\n",
      "29\n",
      "30\n",
      "27\n",
      "28\n",
      "30\n",
      "26\n",
      "30\n",
      "29\n",
      "24\n",
      "26\n",
      "29\n",
      "30\n",
      "30\n"
     ]
    }
   ],
   "source": [
    "for i in range(0, 25):\n",
    "    print(serialQry(sr542, f'$COD? 1'))\n",
    "    time.sleep(0.25)"
   ]
  },
  {
   "cell_type": "code",
   "execution_count": 6,
   "metadata": {},
   "outputs": [
    {
     "data": {
      "text/plain": [
       "'0.000000e+00, 1.000000e+00'"
      ]
     },
     "execution_count": 6,
     "metadata": {},
     "output_type": "execute_result"
    }
   ],
   "source": [
    "serialQry(sr542, '$ADC? 0')"
   ]
  },
  {
   "cell_type": "markdown",
   "metadata": {},
   "source": [
    "# Define Cal Functions"
   ]
  },
  {
   "cell_type": "code",
   "execution_count": 6,
   "metadata": {},
   "outputs": [],
   "source": [
    "def twos_comp(val, bits):\n",
    "    if (val & (1 << (bits - 1))) != 0: # sign bit is set\n",
    "        val = val - (1 << bits)\n",
    "    return val"
   ]
  },
  {
   "cell_type": "code",
   "execution_count": 238,
   "metadata": {},
   "outputs": [],
   "source": [
    "class AdcChannel():\n",
    "    def __init__(self, channel, differential, vmax):\n",
    "        \n",
    "        # 0 = VCO\n",
    "        # 1 = CURR_MON\n",
    "        # 2 = VOLT_MON\n",
    "        # 4 = CHOP_5V_MON\n",
    "        \n",
    "        if channel in [0, 1, 2, 4]:\n",
    "            self.channel = channel\n",
    "        else:\n",
    "            raise ValueError('Invalid Channel Number')                \n",
    "        self.adcBits = 16\n",
    "        self.differential = differential # True/False\n",
    "        self.numCodes = 2**self.adcBits\n",
    "        self.Vref = 3.3\n",
    "        self.LSB_V = self.Vref/self.numCodes # LSB size, in Volts \n",
    "        self.vmax = vmax   \n",
    "        \n",
    "        self.calOffset = 0.0\n",
    "        self.calSlope = 1.0  \n",
    "        self.cald = False\n",
    "        self.passed = False \n",
    "        \n",
    "    def VoltsToCode(self, v):\n",
    "        codeBits = self.adcBits if not self.differential else (self.adcBits - 1)\n",
    "        return v * (2**codeBits - 1)/self.vmax\n",
    "        #return (v*self.prescale + self.offset)/self.Vref * 2**codeBits            \n",
    "        \n",
    "    def CodeToVolts(self, c):\n",
    "        codeBits = self.adcBits if not self.differential else (self.adcBits - 1)\n",
    "        return c * self.vmax/(2**codeBits - 1)\n",
    "        #return (c/2**codeBits * self.Vref - self.offset)/self.prescale\n",
    "\n",
    "    def MeasCodeVsVoltage(self, voltList):\n",
    "        # TODO: Add check that test voltages do not exceed self.vmax?\n",
    "        serialCmd(dc205, 'VOLT 0.0')\n",
    "        serialCmd(dc205, 'SOUT ON')\n",
    "        t0 = time.time()\n",
    "\n",
    "        codes = []\n",
    "        for v in voltList:\n",
    "            serialCmd(dc205, f'VOLT {v:.3f}')           \n",
    "\n",
    "            time.sleep(0.5) #TODO: how long to sleep here?\n",
    "            c = int(serialQry(sr542, f'$COD? {self.channel}'))\n",
    "            if self.differential:\n",
    "                c = twos_comp(c, self.adcBits)\n",
    "            codes.append(c) \n",
    "\n",
    "            update_progress(len(codes) / len(voltList))\n",
    "\n",
    "        serialCmd(dc205, 'VOLT 0.0')\n",
    "        serialCmd(dc205, 'SOUT OFF')        \n",
    "\n",
    "        print(f'elapsed time = {time.time() - t0}')\n",
    "\n",
    "        return np.array(codes)\n",
    "        \n",
    "    def CalculateCal(self, voltList, measuredCodes):     \n",
    "        inputCodes = self.VoltsToCode(voltList)\n",
    "        coeffs, cov = np.polyfit(inputCodes, measuredCodes, 1, cov=True)\n",
    "        fit = np.poly1d(coeffs)\n",
    "        slope = coeffs[0]\n",
    "        offset = coeffs[1]\n",
    "\n",
    "        fig, ax = plt.subplots(2, 1, figsize=(8,8))\n",
    "        ax[0].plot(voltList, measuredCodes, '.')\n",
    "        ax[0].plot(voltList, fit(inputCodes))\n",
    "        ax[0].set_xlabel('input voltage (V)')\n",
    "        ax[0].set_ylabel('measured code (adc code)')\n",
    "        \n",
    "        #axTop = ax[0].secondary_xaxis('top', functions=(self.VoltsToCode, self.CodeToVolts))\n",
    "        #axTop.set_xlabel('input voltage (adc code)')\n",
    "        \n",
    "        res = fit(inputCodes) - measuredCodes\n",
    "        ax[1].plot(voltList, res, 'o-')\n",
    "        ax[1].set_ylabel('fit residual (adc code)')\n",
    "        \n",
    "        print(f'RMS Residual Error = {rms(res):.3f} adc codes')\n",
    "        \n",
    "        self.calSlope = slope\n",
    "        if self.differential:\n",
    "            self.calOffset = offset/(2**(self.adcBits - 1) - 1)\n",
    "        else:\n",
    "            self.calOffset = offset/(2**self.adcBits - 1)\n",
    "        self.cald = True\n",
    "        \n",
    "    def GetCalibratedFrac(self, measuredFrac):\n",
    "        return (measuredFrac - self.calOffset)/self.calSlope\n",
    "    \n",
    "    def ShowCalibration(self, voltList, measuredCodes):\n",
    "        codeBits = self.adcBits if not self.differential else (self.adcBits - 1)\n",
    "        measuredFrac = measuredCodes/(2**codeBits - 1)\n",
    "        calibratedFrac = self.GetCalibratedFrac(measuredFrac)        \n",
    "        calibratedError_codes = (voltList/self.vmax - calibratedFrac)*self.numCodes\n",
    "        uncalibratedError_codes = (voltList/self.vmax - measuredFrac)*self.numCodes\n",
    "        \n",
    "        fig, ax = plt.subplots(2, 1, figsize = (8,8))\n",
    "        ax[0].plot(voltList/self.vmax, calibratedError_codes, 'o-', label='cal', color='C1')        \n",
    "        ax[0].set_ylabel('calibrated error (adc code)')\n",
    "        \n",
    "        ax[1].plot(voltList/self.vmax, uncalibratedError_codes, '.-', label='uncal', color='C0')        \n",
    "        ax[1].set_xlabel('input (frac of FS input)')\n",
    "        ax[1].set_ylabel(\"uncal'd error (adc code)\")\n",
    "        \n",
    "        ax[0].set_title('Expected Calibrated Error')\n",
    "        ax[0].legend()\n",
    "        ax[1].legend()\n",
    "        \n",
    "        print(f'Calibrated rms error for the tested inputs would be = {rms(calibratedError_codes):.3f} adc codes')\n",
    "            \n",
    "    def EvaluatePassFail(self, dacCodes, V_meas):\n",
    "        pass\n",
    "            \n",
    "    def UploadCalData(self):\n",
    "        offset, slope = serialQry(sr542, f'$ADC? {self.channel}').split(',')\n",
    "        offset = float(offset)\n",
    "        slope = float(slope)\n",
    "        \n",
    "        d_offset = (self.calOffset - offset)*self.numCodes\n",
    "        d_slope = (self.calSlope - slope)/slope*100\n",
    "\n",
    "        if (d_offset > 1 or d_slope > 1/self.numCodes*100):\n",
    "            print('This will adjust the calibration of this ADC channel')\n",
    "            print(f'The offset will change by {d_offset:.3e} codes')\n",
    "            print(f'The slope will change by {d_slope:.3e}%')\n",
    "            proceed = yes_or_no('Proceed?')\n",
    "        else:\n",
    "            print('The calibration is unchanged')\n",
    "            print(f'd_offset = {d_offset:.3e} codes')\n",
    "            print(f'd_slope = {d_slope:.3e} %')\n",
    "            \n",
    "        if proceed:\n",
    "            serialCmd(sr542, f'$ADC {self.channel}, {self.calOffset:.6e}, {self.calSlope:.6e}')\n",
    "            \n",
    "    def SaveCalData(self):\n",
    "        controllerSn = serialQry(sr542, '*IDN?').split(',')[2].strip(' s/n')\n",
    "        saveMeasurement('.\\CalData', controllerSn, f'Ch{self.channel}_adcCal', np.vstack([self.calOffset, self.calSlope]), \n",
    "                                                                                ['offset', 'slope'], fmt='%.6e')"
   ]
  },
  {
   "cell_type": "code",
   "execution_count": 239,
   "metadata": {},
   "outputs": [],
   "source": [
    "Vco = AdcChannel(0, differential=True, vmax = 10.0)"
   ]
  },
  {
   "cell_type": "code",
   "execution_count": 225,
   "metadata": {},
   "outputs": [
    {
     "data": {
      "text/plain": [
       "array([ 0. ,  0.5,  1. ,  1.5,  2. ,  2.5,  3. ,  3.5,  4. ,  4.5,  5. ,\n",
       "        5.5,  6. ,  6.5,  7. ,  7.5,  8. ,  8.5,  9. ,  9.5, 10. ])"
      ]
     },
     "execution_count": 225,
     "metadata": {},
     "output_type": "execute_result"
    }
   ],
   "source": [
    "testVolts = np.linspace(0, 10, 21)\n",
    "testVolts"
   ]
  },
  {
   "cell_type": "code",
   "execution_count": 240,
   "metadata": {},
   "outputs": [
    {
     "name": "stdout",
     "output_type": "stream",
     "text": [
      "Progress: [####################] 100.0%\n",
      "elapsed time = 10.911847591400146\n"
     ]
    }
   ],
   "source": [
    "adcCodes = Vco.MeasCodeVsVoltage(testVolts)"
   ]
  },
  {
   "cell_type": "code",
   "execution_count": 249,
   "metadata": {},
   "outputs": [
    {
     "data": {
      "text/plain": [
       "array([  -70,  1537,  3139,  4749,  6348,  7957,  9565, 11168, 12777,\n",
       "       14378, 15985, 17590, 19199, 20804, 22407, 24013, 25619, 27225,\n",
       "       28834, 30434, 32041])"
      ]
     },
     "execution_count": 249,
     "metadata": {},
     "output_type": "execute_result"
    }
   ],
   "source": [
    "adcCodes"
   ]
  },
  {
   "cell_type": "code",
   "execution_count": 253,
   "metadata": {},
   "outputs": [
    {
     "data": {
      "text/plain": [
       "-0.007049560546875"
      ]
     },
     "execution_count": 253,
     "metadata": {},
     "output_type": "execute_result"
    }
   ],
   "source": [
    "adcCodes[0]/2**15 * Vco.Vref"
   ]
  },
  {
   "cell_type": "code",
   "execution_count": 254,
   "metadata": {},
   "outputs": [
    {
     "data": {
      "text/plain": [
       "3.2268837549974054"
      ]
     },
     "execution_count": 254,
     "metadata": {},
     "output_type": "execute_result"
    }
   ],
   "source": [
    "adcCodes[-1]/(2**15 - 1) * Vco.Vref"
   ]
  },
  {
   "cell_type": "code",
   "execution_count": 241,
   "metadata": {},
   "outputs": [
    {
     "name": "stdout",
     "output_type": "stream",
     "text": [
      "RMS Residual Error = 1.855 adc codes\n"
     ]
    },
    {
     "data": {
      "image/png": "[encoded data removed]",
      "text/plain": [
       "<Figure size 576x576 with 2 Axes>"
      ]
     },
     "metadata": {
      "needs_background": "light"
     },
     "output_type": "display_data"
    }
   ],
   "source": [
    "Vco.CalculateCal(testVolts, adcCodes)"
   ]
  },
  {
   "cell_type": "code",
   "execution_count": 242,
   "metadata": {},
   "outputs": [
    {
     "name": "stdout",
     "output_type": "stream",
     "text": [
      "-0.0021468648440905185\n",
      "0.9800111689817795\n"
     ]
    }
   ],
   "source": [
    "print(Vco.calOffset)\n",
    "print(Vco.calSlope)"
   ]
  },
  {
   "cell_type": "code",
   "execution_count": 243,
   "metadata": {},
   "outputs": [
    {
     "name": "stdout",
     "output_type": "stream",
     "text": [
      "Calibrated rms error for the tested inputs would be = 3.786 adc codes\n"
     ]
    },
    {
     "data": {
      "image/png": "[encoded data removed]",
      "text/plain": [
       "<Figure size 576x576 with 2 Axes>"
      ]
     },
     "metadata": {
      "needs_background": "light"
     },
     "output_type": "display_data"
    }
   ],
   "source": [
    "Vco.ApplyCalibration(testVolts, adcCodes)"
   ]
  },
  {
   "cell_type": "code",
   "execution_count": 245,
   "metadata": {},
   "outputs": [
    {
     "data": {
      "text/plain": [
       "'-2.152149e-03, 9.799723e-01'"
      ]
     },
     "execution_count": 245,
     "metadata": {},
     "output_type": "execute_result"
    }
   ],
   "source": [
    "serialQry(sr542, '$ADC? 0')"
   ]
  },
  {
   "cell_type": "code",
   "execution_count": 246,
   "metadata": {},
   "outputs": [
    {
     "name": "stdout",
     "output_type": "stream",
     "text": [
      "This will adjust the calibration of this ADC channel\n",
      "The offset will change by 3.463e-01 codes\n",
      "The slope will change by 3.966e-03%\n",
      "Proceed? (y/n):y\n"
     ]
    }
   ],
   "source": [
    "Vco.UploadCalData()"
   ]
  },
  {
   "cell_type": "code",
   "execution_count": 247,
   "metadata": {},
   "outputs": [
    {
     "data": {
      "text/plain": [
       "'-2.146865e-03, 9.800112e-01'"
      ]
     },
     "execution_count": 247,
     "metadata": {},
     "output_type": "execute_result"
    }
   ],
   "source": [
    "serialQry(sr542, '$ADC? 0')"
   ]
  },
  {
   "cell_type": "code",
   "execution_count": 248,
   "metadata": {},
   "outputs": [],
   "source": [
    "Vco.SaveCalData()"
   ]
  },
  {
   "cell_type": "markdown",
   "metadata": {},
   "source": [
    "## How to verify the calibration?"
   ]
  },
  {
   "cell_type": "code",
   "execution_count": 43,
   "metadata": {},
   "outputs": [],
   "source": [
    "serialCmd(dc205, 'SOUT ON')"
   ]
  },
  {
   "cell_type": "code",
   "execution_count": 44,
   "metadata": {},
   "outputs": [
    {
     "name": "stdout",
     "output_type": "stream",
     "text": [
      "Progress: [####################] 100.0%\n"
     ]
    }
   ],
   "source": [
    "f_src = []\n",
    "for v in testVolts:\n",
    "    serialCmd(dc205, f'VOLT {v:.3f}')           \n",
    "\n",
    "    time.sleep(3.0) #TODO: how long to sleep here?\n",
    "    f = float(serialQry(sr542, 'MFRQ? SRCE'))\n",
    "    f_src.append(f)    \n",
    "\n",
    "    update_progress(len(f_src) / len(testVolts))"
   ]
  },
  {
   "cell_type": "code",
   "execution_count": 45,
   "metadata": {},
   "outputs": [],
   "source": [
    "serialCmd(dc205, 'SOUT OFF')"
   ]
  },
  {
   "cell_type": "code",
   "execution_count": 46,
   "metadata": {},
   "outputs": [
    {
     "data": {
      "text/plain": [
       "[0.0,\n",
       " 5.01,\n",
       " 9.99,\n",
       " 15.01,\n",
       " 19.99,\n",
       " 25.0,\n",
       " 30.01,\n",
       " 35.01,\n",
       " 40.02,\n",
       " 45.0,\n",
       " 50.01,\n",
       " 55.01,\n",
       " 60.01,\n",
       " 65.02,\n",
       " 70.01,\n",
       " 75.01,\n",
       " 80.01,\n",
       " 85.02,\n",
       " 90.01,\n",
       " 95.01,\n",
       " 100.0]"
      ]
     },
     "execution_count": 46,
     "metadata": {},
     "output_type": "execute_result"
    }
   ],
   "source": [
    "f_src"
   ]
  },
  {
   "cell_type": "code",
   "execution_count": 47,
   "metadata": {},
   "outputs": [
    {
     "data": {
      "text/plain": [
       "[<matplotlib.lines.Line2D at 0x2157524ad30>]"
      ]
     },
     "execution_count": 47,
     "metadata": {},
     "output_type": "execute_result"
    },
    {
     "data": {
      "image/png": "[encoded data removed]",
      "text/plain": [
       "<Figure size 432x288 with 1 Axes>"
      ]
     },
     "metadata": {
      "needs_background": "light"
     },
     "output_type": "display_data"
    }
   ],
   "source": [
    "plt.plot(testVolts/10 * 100, f_src)"
   ]
  },
  {
   "cell_type": "code",
   "execution_count": 48,
   "metadata": {},
   "outputs": [
    {
     "data": {
      "text/plain": [
       "[<matplotlib.lines.Line2D at 0x215751bdc10>]"
      ]
     },
     "execution_count": 48,
     "metadata": {},
     "output_type": "execute_result"
    },
    {
     "data": {
      "image/png": "[encoded data removed]",
      "text/plain": [
       "<Figure size 432x288 with 1 Axes>"
      ]
     },
     "metadata": {
      "needs_background": "light"
     },
     "output_type": "display_data"
    }
   ],
   "source": [
    "plt.plot(testVolts, testVolts/10 * 100 - f_src, 'o-')"
   ]
  },
  {
   "cell_type": "code",
   "execution_count": 49,
   "metadata": {},
   "outputs": [
    {
     "data": {
      "text/plain": [
       "0.011126972805283878"
      ]
     },
     "execution_count": 49,
     "metadata": {},
     "output_type": "execute_result"
    }
   ],
   "source": [
    "rms(testVolts/10 * 100 - f_src)"
   ]
  },
  {
   "cell_type": "markdown",
   "metadata": {},
   "source": [
    "# Putting it all together"
   ]
  },
  {
   "cell_type": "code",
   "execution_count": null,
   "metadata": {},
   "outputs": [],
   "source": []
  }
 ],
 "metadata": {
  "kernelspec": {
   "display_name": "Python 3",
   "language": "python",
   "name": "python3"
  },
  "language_info": {
   "codemirror_mode": {
    "name": "ipython",
    "version": 3
   },
   "file_extension": ".py",
   "mimetype": "text/x-python",
   "name": "python",
   "nbconvert_exporter": "python",
   "pygments_lexer": "ipython3",
   "version": "3.9.4"
  }
 },
 "nbformat": 4,
 "nbformat_minor": 2
}
