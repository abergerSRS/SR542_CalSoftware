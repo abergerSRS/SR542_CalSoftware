{
 "cells": [
  {
   "cell_type": "code",
   "execution_count": 1,
   "metadata": {},
   "outputs": [],
   "source": [
    "import serial\r\n",
    "import numpy as np\r\n",
    "import matplotlib.pyplot as plt\r\n",
    "import os\r\n",
    "import time\r\n",
    "import pyvisa as visa\r\n",
    "from pathlib import Path\r\n",
    "from scipy.interpolate import interp1d\r\n",
    "\r\n",
    "from saveCalData import saveMeasurement\r\n",
    "from progressbar import update_progress\r\n",
    "from user_prompts import yes_or_no"
   ]
  },
  {
   "cell_type": "code",
   "execution_count": 2,
   "metadata": {},
   "outputs": [],
   "source": [
    "def serialQry(port, command):\r\n",
    "    port.reset_input_buffer()\r\n",
    "    port.write((command + '\\n').encode('ascii'))\r\n",
    "    return port.readline().decode('ascii').strip() #strip removes white space\r\n",
    "\r\n",
    "def serialCmd(port, command):\r\n",
    "    port.reset_input_buffer()\r\n",
    "    port.write((command + '\\n').encode('ascii'))"
   ]
  },
  {
   "cell_type": "code",
   "execution_count": 3,
   "metadata": {},
   "outputs": [],
   "source": [
    "def rms(x):\r\n",
    "    return np.sqrt(np.mean(x**2))"
   ]
  },
  {
   "cell_type": "code",
   "execution_count": 4,
   "metadata": {},
   "outputs": [],
   "source": [
    "sr542 = serial.Serial(port='COM11', baudrate=115200, timeout=.5)\r\n",
    "dc205 = serial.Serial(port='COM12', baudrate=115200, timeout=0.5)\r\n",
    "cs580 = serial.Serial(port='COM10', baudrate=9600, timeout=0.5)\r\n",
    "rm = visa.ResourceManager()\r\n",
    "rm.list_resources()\r\n",
    "dvm = rm.open_resource('USB0::0x0957::0xB318::MY52449038::INSTR')"
   ]
  },
  {
   "cell_type": "code",
   "execution_count": 5,
   "metadata": {},
   "outputs": [
    {
     "name": "stdout",
     "output_type": "stream",
     "text": [
      "Stanford_Research_Systems, SR542, s/n00001007, v0.10\n",
      "Stanford_Research_Systems,DC205,s/n20500218,ver1.80\n",
      "Agilent Technologies,34450A,MY52449038,00.56-00.63\n",
      "\n"
     ]
    }
   ],
   "source": [
    "print(serialQry(sr542, '*IDN?'))\r\n",
    "print(serialQry(dc205, '*IDN?'))\r\n",
    "print(dvm.query('*IDN?'))"
   ]
  },
  {
   "cell_type": "code",
   "execution_count": 50,
   "metadata": {},
   "outputs": [],
   "source": [
    "def WaitForSpeedLock():\r\n",
    "    serialQry(sr542, 'CHEV?') # Query the Chopper Event Register to clear it\r\n",
    "    serialCmd(sr542, 'CHPT 4') # Look for positive transitions of the Speed Lock bit (bit 2)\r\n",
    "\r\n",
    "    t0 = time.time()\r\n",
    "    while True:\r\n",
    "        time.sleep(0.5)\r\n",
    "        event = serialQry(sr542, 'CHEV?')        \r\n",
    "        if(event != '0'):\r\n",
    "            break    \r\n",
    "\r\n",
    "    print(f'Time to speed lock = {time.time() - t0:.3f} seconds')\r\n",
    "\r\n",
    "def WaitForPhaseLock():\r\n",
    "    serialQry(sr542, 'CHEV?') # Query the Chopper Event Register to clear it\r\n",
    "    serialCmd(sr542, 'CHPT 8') # Look for positive transitions of the Chopper Lock bit (bit 3)\r\n",
    "\r\n",
    "    t0 = time.time()\r\n",
    "    while True:\r\n",
    "        time.sleep(0.5)\r\n",
    "        event = serialQry(sr542, 'CHEV?')        \r\n",
    "        if(event != '0'):\r\n",
    "            break    \r\n",
    "\r\n",
    "    print(f'Time to phase lock = {time.time() - t0:.3f} seconds')"
   ]
  },
  {
   "cell_type": "code",
   "execution_count": 45,
   "metadata": {},
   "outputs": [],
   "source": [
    "class ChopperHead():\r\n",
    "    def __init__(self):        \r\n",
    "        self.sn = self.GetOrSetSerialNum()\r\n",
    "        self.quad_count = 400\r\n",
    "        self.on_unit_tick_pos = self.GetTickPos()\r\n",
    "        self.on_unit_curr_corr = self.GetCurrCorr()\r\n",
    "\r\n",
    "        ticks_uncald = np.allclose(self.on_unit_tick_pos, np.linspace(0, 1, self.quad_count, endpoint=False), rtol=1e-6, atol=1e-6)\r\n",
    "        curr_uncald = np.allclose(self.on_unit_curr_corr, np.zeros(self.quad_count), rtol=1e-6, atol=1e-6)\r\n",
    "        if(ticks_uncald and curr_uncald):\r\n",
    "            self.cald = False\r\n",
    "        else:\r\n",
    "            self.cald = True\r\n",
    "\r\n",
    "    def GetOrSetSerialNum(self):\r\n",
    "        serialCmd(sr542, '$CHT DNLD')\r\n",
    "        if (serialQry(sr542, 'LERR?') == '51'):\r\n",
    "            # Then the chopper head was in an erased state. Go ahead and upload the new s/n\r\n",
    "            sn = str(input(f'Please enter chopper head serial number [YYWW####]').strip())\r\n",
    "            serialCmd(sr542, f'$CSR {sn}')\r\n",
    "            serialCmd(sr542, '$CHT UPLD')\r\n",
    "        else:\r\n",
    "            print(serialQry(sr542, '$CSR?'))\r\n",
    "\r\n",
    "    def GetTickPos(self):\r\n",
    "        tick_pos = np.linspace(0, 1, self.quad_count, endpoint=False, dtype=np.float32)\r\n",
    "        for i in range(400):\r\n",
    "            tick_pos[i] = np.float32(serialQry(sr542, f'$TIK? {i}'))\r\n",
    "\r\n",
    "        return tick_pos\r\n",
    "\r\n",
    "    def GetCurrCorr(self):\r\n",
    "        curr_corr = np.zeros(self.quad_count, dtype=np.float32)\r\n",
    "        for i in range(400):\r\n",
    "            curr_corr[i] = np.float32(serialQry(sr542, f'$CCR? {i}'))\r\n",
    "\r\n",
    "        return curr_corr\r\n",
    "\r\n",
    "    def SpinDownMeasurement(self, start_freq_Hz, edges_to_capture='SHAFT'):\r\n",
    "        if edges_to_capture not in ['OUTER', 'INNER', 'SHAFT']:\r\n",
    "            raise ValueError('Invalid edges to capture')\r\n",
    "        serialCmd(sr542, 'SRCE INT')\r\n",
    "        serialCmd(sr542, 'CTRL SHAFT')\r\n",
    "        serialCmd(sr542, f'IFRQ {start_freq_Hz}')\r\n",
    "\r\n",
    "        serialCmd(sr542, 'MOTR ON')\r\n",
    "        WaitForPhaseLock()\r\n",
    "\r\n",
    "        serialCmd(sr542, f'$SDN {edges_to_capture}')\r\n",
    "        time.sleep(10.0) #TODO: how long to wait here\r\n",
    "        serialCmd(sr542, 'MOTR OFF')\r\n",
    "\r\n"
   ]
  },
  {
   "cell_type": "code",
   "execution_count": 46,
   "metadata": {},
   "outputs": [
    {
     "name": "stdout",
     "output_type": "stream",
     "text": [
      "21170001\n"
     ]
    }
   ],
   "source": [
    "ch_dut = ChopperHead()"
   ]
  },
  {
   "cell_type": "code",
   "execution_count": 47,
   "metadata": {},
   "outputs": [
    {
     "data": {
      "text/plain": "False"
     },
     "execution_count": 47,
     "metadata": {},
     "output_type": "execute_result"
    }
   ],
   "source": [
    "ch_dut.cald"
   ]
  },
  {
   "cell_type": "code",
   "execution_count": null,
   "metadata": {},
   "outputs": [],
   "source": []
  }
 ],
 "metadata": {
  "interpreter": {
   "hash": "be098d32f57b1a2b9aacbade952c5e427778cda6d97bd24f3e84e87f053b8dae"
  },
  "kernelspec": {
   "display_name": "Python 3.9.4 64-bit",
   "name": "python3"
  },
  "language_info": {
   "name": "python",
   "version": ""
  },
  "orig_nbformat": 2
 },
 "nbformat": 4,
 "nbformat_minor": 2
}