{
 "cells": [
  {
   "cell_type": "markdown",
   "id": "ff58113a",
   "metadata": {},
   "source": [
    "This notebook was used to develop the `saveMeasurement()` method as a general tool for saving calibration and test measurements in an organized fashion\n",
    "\n",
    "The module is duplicated in saveCalData.py to be importable as a Python module into other code"
   ]
  },
  {
   "cell_type": "code",
   "execution_count": 59,
   "id": "0a249e65",
   "metadata": {},
   "outputs": [],
   "source": [
    "import datetime\n",
    "import numpy as np\n",
    "import os\n",
    "import pandas as pd\n",
    "from glob import glob"
   ]
  },
  {
   "cell_type": "code",
   "execution_count": 39,
   "id": "79c7e103",
   "metadata": {},
   "outputs": [],
   "source": [
    "def createHeader(sn, measurementName, trial, columns, sep='\\t'):    \n",
    "    headerStr = f'sn: {sn}\\nmeasurement: {measurementName}\\ntrial: {trial}\\n{sep.join(columns)}'\n",
    "    return headerStr"
   ]
  },
  {
   "cell_type": "code",
   "execution_count": 69,
   "id": "d657f2ac",
   "metadata": {},
   "outputs": [
    {
     "name": "stdout",
     "output_type": "stream",
     "text": [
      "sn: 20480001\n",
      "measurement: dacCal\n",
      "trial: 1\n",
      "current\tdacCode\n"
     ]
    }
   ],
   "source": [
    "print(createHeader(20480001, 'dacCal', 1, ['current', 'dacCode'], sep='\\t'))"
   ]
  },
  {
   "cell_type": "code",
   "execution_count": 65,
   "id": "990ecd97",
   "metadata": {},
   "outputs": [],
   "source": [
    "def saveMeasurement(dest, sn, measurementName, data, columns, header=None, fmt='%.6e'):\n",
    "    folder = os.path.join(dest, measurementName)\n",
    "    if not os.path.exists(folder):\n",
    "        os.makedirs(folder)\n",
    "    # search for existing measurements of this type and increment the measurement counter\n",
    "    filesForThisSn = glob(os.path.join(folder, f'{sn}_{measurementName}*.csv'))\n",
    "    trial = 1 + len(filesForThisSn)\n",
    "    fname = f'{sn}_{measurementName}_{trial}.csv'\n",
    "    if header==None:\n",
    "        hdr = createHeader(sn, measurementName, trial, columns)\n",
    "    np.savetxt(os.path.join(dest, measurementName, fname), np.transpose(data), delimiter='\\t', header=hdr, fmt=fmt)"
   ]
  },
  {
   "cell_type": "code",
   "execution_count": 42,
   "id": "7d57c473",
   "metadata": {},
   "outputs": [
    {
     "data": {
      "text/plain": [
       "array([0, 1, 2, 3, 4, 5, 6, 7, 8, 9])"
      ]
     },
     "execution_count": 42,
     "metadata": {},
     "output_type": "execute_result"
    }
   ],
   "source": [
    "x = np.arange(10)\n",
    "x"
   ]
  },
  {
   "cell_type": "code",
   "execution_count": 43,
   "id": "bf44e566",
   "metadata": {},
   "outputs": [
    {
     "data": {
      "text/plain": [
       "array([ 0.05100533,  0.45048817, -1.11488017, -1.32694716, -2.3091467 ,\n",
       "        1.2315014 , -0.55202076, -2.41561286, -2.15572617,  0.73752181])"
      ]
     },
     "execution_count": 43,
     "metadata": {},
     "output_type": "execute_result"
    }
   ],
   "source": [
    "y = np.random.randn(10)\n",
    "y"
   ]
  },
  {
   "cell_type": "code",
   "execution_count": 70,
   "id": "3ad60d6b",
   "metadata": {},
   "outputs": [
    {
     "data": {
      "text/plain": [
       "array([ 1.21106303, -2.73116381, -1.44270169, -0.07927471, -0.55836756,\n",
       "       -2.96023793,  2.40556992, -0.78699427,  0.23745825,  0.43834971])"
      ]
     },
     "execution_count": 70,
     "metadata": {},
     "output_type": "execute_result"
    }
   ],
   "source": [
    "z = np.random.randn(10)*1.7\n",
    "z"
   ]
  },
  {
   "cell_type": "code",
   "execution_count": 44,
   "id": "8a14d514",
   "metadata": {},
   "outputs": [],
   "source": [
    "sn = 20480001\n",
    "mment = 'test'\n",
    "trial = 1"
   ]
  },
  {
   "cell_type": "code",
   "execution_count": 71,
   "id": "b91ca5b7",
   "metadata": {},
   "outputs": [],
   "source": [
    "saveMeasurement('.\\CalData', sn, mment, [x, y, z], ['x', 'y', 'z'])"
   ]
  },
  {
   "cell_type": "code",
   "execution_count": null,
   "id": "400a308a",
   "metadata": {},
   "outputs": [],
   "source": []
  }
 ],
 "metadata": {
  "kernelspec": {
   "display_name": "Python 3",
   "language": "python",
   "name": "python3"
  },
  "language_info": {
   "codemirror_mode": {
    "name": "ipython",
    "version": 3
   },
   "file_extension": ".py",
   "mimetype": "text/x-python",
   "name": "python",
   "nbconvert_exporter": "python",
   "pygments_lexer": "ipython3",
   "version": "3.9.4"
  }
 },
 "nbformat": 4,
 "nbformat_minor": 5
}
