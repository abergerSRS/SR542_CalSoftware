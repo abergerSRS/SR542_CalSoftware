{
 "cells": [
  {
   "cell_type": "code",
   "execution_count": 1,
   "metadata": {},
   "outputs": [],
   "source": [
    "import numpy as np\n",
    "import serial\n",
    "import time\n",
    "from time import sleep"
   ]
  },
  {
   "cell_type": "code",
   "execution_count": 2,
   "metadata": {},
   "outputs": [
    {
     "name": "stdout",
     "output_type": "stream",
     "text": [
      "COM4\n"
     ]
    }
   ],
   "source": [
    "ser = serial.Serial(port='COM4',baudrate=115200,timeout=.2)\n",
    "print(ser.name)"
   ]
  },
  {
   "cell_type": "code",
   "execution_count": 3,
   "metadata": {},
   "outputs": [],
   "source": [
    "def serialQry(port, command):\n",
    "    port.reset_input_buffer()\n",
    "    port.write((command + '\\r').encode('ascii'))\n",
    "    return port.readline().decode('ascii').strip() #strip removes white space\n",
    "\n",
    "def serialCmd(port, command):\n",
    "    port.reset_input_buffer()\n",
    "    port.write((command + '\\r').encode('ascii'))"
   ]
  },
  {
   "cell_type": "code",
   "execution_count": 4,
   "metadata": {},
   "outputs": [
    {
     "data": {
      "text/plain": [
       "'Stanford_Research_Systems, SR542, s/n00000001, v0.10'"
      ]
     },
     "execution_count": 4,
     "metadata": {},
     "output_type": "execute_result"
    }
   ],
   "source": [
    "serialQry(ser, '*IDN?')"
   ]
  },
  {
   "cell_type": "code",
   "execution_count": 31,
   "metadata": {},
   "outputs": [],
   "source": [
    "serialCmd(ser, '*CLS')"
   ]
  },
  {
   "cell_type": "markdown",
   "metadata": {},
   "source": [
    "## Set up the instrument"
   ]
  },
  {
   "cell_type": "code",
   "execution_count": 5,
   "metadata": {},
   "outputs": [
    {
     "data": {
      "text/plain": [
       "'ON'"
      ]
     },
     "execution_count": 5,
     "metadata": {},
     "output_type": "execute_result"
    }
   ],
   "source": [
    "serialCmd(ser, 'TOKN ON')\n",
    "serialQry(ser, 'TOKN?')"
   ]
  },
  {
   "cell_type": "code",
   "execution_count": 6,
   "metadata": {},
   "outputs": [
    {
     "data": {
      "text/plain": [
       "'4'"
      ]
     },
     "execution_count": 6,
     "metadata": {},
     "output_type": "execute_result"
    }
   ],
   "source": [
    "# monitor CHCR for speed lock acquisition\n",
    "serialCmd(ser, 'CHPT 4')\n",
    "serialQry(ser, 'CHPT?')"
   ]
  },
  {
   "cell_type": "code",
   "execution_count": 7,
   "metadata": {},
   "outputs": [
    {
     "data": {
      "text/plain": [
       "'INT'"
      ]
     },
     "execution_count": 7,
     "metadata": {},
     "output_type": "execute_result"
    }
   ],
   "source": [
    "serialCmd(ser, 'SRCE INT')\n",
    "serialQry(ser, 'SRCE?')"
   ]
  },
  {
   "cell_type": "code",
   "execution_count": 8,
   "metadata": {},
   "outputs": [
    {
     "data": {
      "text/plain": [
       "'SHAFT'"
      ]
     },
     "execution_count": 8,
     "metadata": {},
     "output_type": "execute_result"
    }
   ],
   "source": [
    "serialCmd(ser, 'CTRL SHAFT')\n",
    "serialQry(ser, 'CTRL?')"
   ]
  },
  {
   "cell_type": "code",
   "execution_count": 9,
   "metadata": {},
   "outputs": [
    {
     "data": {
      "text/plain": [
       "'80.00'"
      ]
     },
     "execution_count": 9,
     "metadata": {},
     "output_type": "execute_result"
    }
   ],
   "source": [
    "f_start = 80\n",
    "serialCmd(ser, f'IFRQ {f_start}')\n",
    "serialQry(ser, 'IFRQ?')"
   ]
  },
  {
   "cell_type": "code",
   "execution_count": 10,
   "metadata": {},
   "outputs": [
    {
     "data": {
      "text/plain": [
       "'0'"
      ]
     },
     "execution_count": 10,
     "metadata": {},
     "output_type": "execute_result"
    }
   ],
   "source": [
    "serialQry(ser, 'CHEV?')"
   ]
  },
  {
   "cell_type": "code",
   "execution_count": 11,
   "metadata": {},
   "outputs": [
    {
     "data": {
      "text/plain": [
       "'ON'"
      ]
     },
     "execution_count": 11,
     "metadata": {},
     "output_type": "execute_result"
    }
   ],
   "source": [
    "# Make sure chopper is in CAL mode\n",
    "serialCmd(ser, 'BSRS ON, 314159265')\n",
    "serialQry(ser, 'BSRS?')"
   ]
  },
  {
   "cell_type": "code",
   "execution_count": 12,
   "metadata": {},
   "outputs": [
    {
     "data": {
      "text/plain": [
       "'OFF'"
      ]
     },
     "execution_count": 12,
     "metadata": {},
     "output_type": "execute_result"
    }
   ],
   "source": [
    "# OPTIONAL: Set to run in UNCAL mode\n",
    "serialCmd(ser, '$UCL OFF')\n",
    "serialQry(ser, '$UCL?')"
   ]
  },
  {
   "cell_type": "code",
   "execution_count": 13,
   "metadata": {},
   "outputs": [],
   "source": [
    "# Check CAL status\n",
    "serialCmd(ser, '$CHT DNLD')"
   ]
  },
  {
   "cell_type": "code",
   "execution_count": 14,
   "metadata": {},
   "outputs": [
    {
     "data": {
      "text/plain": [
       "'20460001'"
      ]
     },
     "execution_count": 14,
     "metadata": {},
     "output_type": "execute_result"
    }
   ],
   "source": [
    "serialQry(ser, '$CSR?')"
   ]
  },
  {
   "cell_type": "code",
   "execution_count": 15,
   "metadata": {},
   "outputs": [
    {
     "data": {
      "text/plain": [
       "'65'"
      ]
     },
     "execution_count": 15,
     "metadata": {},
     "output_type": "execute_result"
    }
   ],
   "source": [
    "serialQry(ser, '$CIR?')"
   ]
  },
  {
   "cell_type": "code",
   "execution_count": 16,
   "metadata": {},
   "outputs": [
    {
     "data": {
      "text/plain": [
       "'9.975164e-01'"
      ]
     },
     "execution_count": 16,
     "metadata": {},
     "output_type": "execute_result"
    }
   ],
   "source": [
    "serialQry(ser, '$TIK? 399')"
   ]
  },
  {
   "cell_type": "code",
   "execution_count": 17,
   "metadata": {},
   "outputs": [
    {
     "data": {
      "text/plain": [
       "'1.776127e-03'"
      ]
     },
     "execution_count": 17,
     "metadata": {},
     "output_type": "execute_result"
    }
   ],
   "source": [
    "serialQry(ser, '$CCR? 399')"
   ]
  },
  {
   "cell_type": "code",
   "execution_count": 18,
   "metadata": {},
   "outputs": [
    {
     "data": {
      "text/plain": [
       "'0'"
      ]
     },
     "execution_count": 18,
     "metadata": {},
     "output_type": "execute_result"
    }
   ],
   "source": [
    "serialQry(ser, 'LERR?')"
   ]
  },
  {
   "cell_type": "markdown",
   "metadata": {},
   "source": [
    "## Run the motor up to speed"
   ]
  },
  {
   "cell_type": "code",
   "execution_count": 75,
   "metadata": {},
   "outputs": [
    {
     "data": {
      "text/plain": [
       "'3.0000, 3.0000, 1.0000'"
      ]
     },
     "execution_count": 75,
     "metadata": {},
     "output_type": "execute_result"
    }
   ],
   "source": [
    "serialQry(ser, 'KPHA?')"
   ]
  },
  {
   "cell_type": "code",
   "execution_count": 18,
   "metadata": {},
   "outputs": [
    {
     "data": {
      "text/plain": [
       "'OFF'"
      ]
     },
     "execution_count": 18,
     "metadata": {},
     "output_type": "execute_result"
    }
   ],
   "source": [
    "serialQry(ser, '$UCL?')"
   ]
  },
  {
   "cell_type": "code",
   "execution_count": 51,
   "metadata": {},
   "outputs": [],
   "source": [
    "serialCmd(ser, '$UCL OFF')"
   ]
  },
  {
   "cell_type": "code",
   "execution_count": 51,
   "metadata": {},
   "outputs": [
    {
     "data": {
      "text/plain": [
       "'0'"
      ]
     },
     "execution_count": 51,
     "metadata": {},
     "output_type": "execute_result"
    }
   ],
   "source": [
    "serialQry(ser, 'CHEV?')"
   ]
  },
  {
   "cell_type": "code",
   "execution_count": 20,
   "metadata": {},
   "outputs": [],
   "source": [
    "serialCmd(ser, 'MOTR ON')\n",
    "\n",
    "while True:\n",
    "    if(int(serialQry(ser, 'CHEV?')) & 4):\n",
    "        # perform the spin-down measurement after the motor achieves speed lock\n",
    "        sleep(10.0)\n",
    "        serialCmd(ser, '$SDN OUTER') # choose between OUTER, INNER, and SHAFT to input capture edges from that track\n",
    "        break\n",
    "    else:\n",
    "        sleep(1.0)"
   ]
  },
  {
   "cell_type": "markdown",
   "metadata": {},
   "source": [
    "## Record the spin-down measurement data to a text file"
   ]
  },
  {
   "cell_type": "code",
   "execution_count": 21,
   "metadata": {},
   "outputs": [],
   "source": [
    "from pathlib import Path\n",
    "import os\n",
    "from glob import glob"
   ]
  },
  {
   "cell_type": "code",
   "execution_count": 22,
   "metadata": {},
   "outputs": [],
   "source": [
    "file_dir = Path('.\\CalData')\n",
    "\n",
    "if not os.path.exists(file_dir):\n",
    "    os.makedirs(file_dir)"
   ]
  },
  {
   "cell_type": "code",
   "execution_count": 23,
   "metadata": {},
   "outputs": [
    {
     "data": {
      "text/plain": [
       "'5, 6'"
      ]
     },
     "execution_count": 23,
     "metadata": {},
     "output_type": "execute_result"
    }
   ],
   "source": [
    "serialQry(ser, 'SLOT?')"
   ]
  },
  {
   "cell_type": "code",
   "execution_count": 55,
   "metadata": {},
   "outputs": [
    {
     "data": {
      "text/plain": [
       "'0, 1402356981, 0.000000e+00'"
      ]
     },
     "execution_count": 55,
     "metadata": {},
     "output_type": "execute_result"
    }
   ],
   "source": [
    "serialQry(ser, '$SDA? 3')"
   ]
  },
  {
   "cell_type": "code",
   "execution_count": 24,
   "metadata": {},
   "outputs": [],
   "source": [
    "def spinDown_ArrayRecord(saveToDirectory):\n",
    "    numPts = 14648 # for high speed, high inertia encoder cal\n",
    "    #numPts = 1024 # for low speed, low inertia torque cal\n",
    "    encCount = np.zeros(numPts)\n",
    "    ftmCount = np.zeros(numPts)\n",
    "    phase = np.zeros(numPts)\n",
    "    \n",
    "    i = 0\n",
    "    for i in range(numPts):\n",
    "        result = serialQry(ser, '$SDA? '+str(i)).split(', ')\n",
    "        encCount[i] = np.uint32(result[0])\n",
    "        ftmCount[i] = np.uint32(result[1])\n",
    "        phase[i] = np.float32(result[2]) \n",
    "        \n",
    "    sn = serialQry(ser, '$CSR?')\n",
    "    shaftIndex = serialQry(ser, '$CIR?')\n",
    "    rotorOffset = serialQry(ser, '$ROF?')\n",
    "    \n",
    "    hdr = f'sn = {sn}\\nshaft index = {shaftIndex}\\nrotor offset = {rotorOffset}\\n'\n",
    "    \n",
    "    file_dir = Path(saveToDirectory)\n",
    "    filesForThisSn = file_dir.glob(f'torqueCal_{sn}_*.txt')\n",
    "    trialNum = sum(1 for file in filesForThisSn)\n",
    "    \n",
    "    fname = f'bladeCal_{sn}_outer_{trialNum}.txt'\n",
    "    \n",
    "    np.savetxt((file_dir / fname),\n",
    "               np.transpose([encCount, ftmCount, phase]), header = hdr, newline='\\n', delimiter=',')"
   ]
  },
  {
   "cell_type": "code",
   "execution_count": 25,
   "metadata": {},
   "outputs": [
    {
     "name": "stdout",
     "output_type": "stream",
     "text": [
      "elapsed time = 234.25864624977112\n"
     ]
    }
   ],
   "source": [
    "# TODO: get chopper serial number from chopper head ($CHT)\n",
    "# TODO: write file name programatically\n",
    "t0 = time.time()\n",
    "spinDown_ArrayRecord('.\\CalData\\Accel Measurements')\n",
    "tf = time.time()\n",
    "dt = tf - t0\n",
    "print(f'elapsed time = {dt}')"
   ]
  },
  {
   "cell_type": "code",
   "execution_count": 108,
   "metadata": {},
   "outputs": [
    {
     "data": {
      "text/plain": [
       "'0'"
      ]
     },
     "execution_count": 108,
     "metadata": {},
     "output_type": "execute_result"
    }
   ],
   "source": [
    "serialQry(ser, 'MWAN?')"
   ]
  },
  {
   "cell_type": "markdown",
   "metadata": {},
   "source": [
    "## Process this data with encoderInputCapture.py"
   ]
  },
  {
   "cell_type": "code",
   "execution_count": 54,
   "metadata": {},
   "outputs": [],
   "source": [
    "serialCmd(ser, '$IMQ 0.7')"
   ]
  },
  {
   "cell_type": "code",
   "execution_count": 84,
   "metadata": {},
   "outputs": [],
   "source": [
    "serialCmd(ser, '$SHC')"
   ]
  },
  {
   "cell_type": "code",
   "execution_count": 646,
   "metadata": {},
   "outputs": [
    {
     "data": {
      "text/plain": [
       "'104'"
      ]
     },
     "execution_count": 646,
     "metadata": {},
     "output_type": "execute_result"
    }
   ],
   "source": [
    "serialQry(ser, 'LERR?')"
   ]
  },
  {
   "cell_type": "code",
   "execution_count": 89,
   "metadata": {},
   "outputs": [],
   "source": [
    "serialCmd(ser, 'MOTR 0')"
   ]
  }
 ],
 "metadata": {
  "kernelspec": {
   "display_name": "Python 3",
   "language": "python",
   "name": "python3"
  },
  "language_info": {
   "codemirror_mode": {
    "name": "ipython",
    "version": 3
   },
   "file_extension": ".py",
   "mimetype": "text/x-python",
   "name": "python",
   "nbconvert_exporter": "python",
   "pygments_lexer": "ipython3",
   "version": "3.9.4"
  }
 },
 "nbformat": 4,
 "nbformat_minor": 4
}
